{
  "nbformat": 4,
  "nbformat_minor": 0,
  "metadata": {
    "colab": {
      "provenance": []
    },
    "kernelspec": {
      "name": "python3",
      "display_name": "Python 3"
    },
    "language_info": {
      "name": "python"
    }
  },
  "cells": [
    {
      "cell_type": "markdown",
      "source": [
        "*This tutorial is created by [Ahmadreza Attarpour](https://github.com/AAttarpour), and [Jonas Osman](https://github.com/jono3030).*\n",
        "\n",
        "*Unpublished results.*"
      ],
      "metadata": {
        "id": "oIGJUmcLCvKd"
      }
    },
    {
      "cell_type": "markdown",
      "source": [
        "#**Large tera-voxel size of whole-brain light sheet microscopy images**\n",
        "\n",
        "- Tissue clearing and light sheet fluorescence microscopy (LSFM) produce exceedingly large (tera-voxel scale), complex, multichannel three-dimensional (3D) datasets\n",
        "- E.g. a complete snapshot of neural activity brain-wide reflected in levels of c-Fos (~1 TB of 3D data per brain sample)"
      ],
      "metadata": {
        "id": "YWxf0JFCDip3"
      }
    },
    {
      "cell_type": "markdown",
      "source": [
        "![](https://drive.google.com/uc?export=view&id=1DJmgDfK-GR52fljiw1XQBCOv5o5vdU5i)"
      ],
      "metadata": {
        "id": "5UFrbHPzF7PV"
      }
    },
    {
      "cell_type": "markdown",
      "source": [
        "#**Methodological Gap**\n",
        "\n",
        "# How do we map ***local / subregional / laminar specific*** activity across the brain using tera-voxel size LSFM data."
      ],
      "metadata": {
        "id": "l6HH5Ihb_gLF"
      }
    },
    {
      "cell_type": "markdown",
      "source": [
        "# **What is ACE?**\n",
        "\n",
        "*AI-based Cartography of Ensembles* (ACE) is an ***end-to-end*** pipeline to map local and laminar neuronal activity leveargin deep learning, advanced cluster wise analysis, and whole-brain tera-voxel size light sheet flurorescence microscopy (LSFM) dataset."
      ],
      "metadata": {
        "id": "UcdvVd07-9P6"
      }
    },
    {
      "cell_type": "markdown",
      "source": [
        "![](https://drive.google.com/uc?export=view&id=1RVfvArucG9-cgvEVhsEiOm9vIO60hddM)"
      ],
      "metadata": {
        "id": "ib1TKSoCNRSz"
      }
    },
    {
      "cell_type": "markdown",
      "source": [
        "#**ACE Highlights**\n",
        "\n",
        "- Cutting-edge ***vision transformer*** and ***CNN***-based deep learning architectures trained on very large LSFM datasets (link to sample data and refer to example section) to map brain-wide neuronal activity.\n",
        "- Optimized ***cluster-wise statistical analysis*** with a ***threshold-free enhancement*** approach to chart subpopulation-specific effects at the laminar and local level, ***without restricting the analysis to atlas-defined regions***.\n",
        "- Modules for providing DL model uncertainty estimates and fine-tuning.\n",
        "- Interface with MIRACL registration to create study-specific atlases.\n",
        "- Ability to account for covariates at the cluster level and map the connectivity between clusters of activations."
      ],
      "metadata": {
        "id": "ydM4DuYUCJn8"
      }
    },
    {
      "cell_type": "markdown",
      "source": [
        "#**ACE API**\n",
        "\n",
        "- We included ACE pipeline in our open source [**MIRACL software**](https://miracl.readthedocs.io/en/latest/).\n",
        "- We provide a build script to automatically create either a [**Docker**](https://miracl.readthedocs.io/en/latest/installation/installation.html) or [**Singularity**](https://miracl.readthedocs.io/en/latest/installation/installation.html) image.\n",
        "- useful links:\n",
        "  1. [MIRACL Github page](https://miracl.readthedocs.io/en/latest/index.html)\n",
        "  2. [MIRACL readdoc page](https://github.com/AICONSlab/MIRACL)\n",
        "  3. [ACE tutorial](https://miracl.readthedocs.io/en/latest/tutorials/workflows/ace_flow/ace_flow.html)"
      ],
      "metadata": {
        "id": "L4aysrjZNuOC"
      }
    },
    {
      "cell_type": "markdown",
      "source": [
        "#**ACE CLI**\n",
        "\n",
        "To get more information about the workflow and its required arguments use the following command on the cli:\n",
        "\n",
        "\n",
        "\n",
        "```\n",
        "$ miracl flow ace -h\n",
        "```\n",
        "\n"
      ],
      "metadata": {
        "id": "nLJgTpIuYMVS"
      }
    },
    {
      "cell_type": "markdown",
      "source": [
        "![](https://drive.google.com/uc?export=view&id=1nzlNhUU0STBz6getlhyYc0y9poT5yaTV)"
      ],
      "metadata": {
        "id": "SRCYgDftbyFW"
      }
    },
    {
      "cell_type": "markdown",
      "source": [
        "#**Some more useful information can be found by using:**\n",
        "\n",
        "\n",
        "```\n",
        "$ miracl flow ace -hv\n",
        "```"
      ],
      "metadata": {
        "id": "FBJsP2EncbhQ"
      }
    },
    {
      "cell_type": "markdown",
      "source": [
        "![](https://drive.google.com/uc?export=view&id=16YAn3I5c1NL7TC8Hhy2UA979AqKQO53I)\n",
        "\n",
        "ACE provides an estimate of model uncertainty/confidence. With uncertainty in hands, we can truly evaluate model performance and increase its performance using either post processing or fine tune the model (fine tuning scripts are already incorporated in ACE)"
      ],
      "metadata": {
        "id": "14ggYsG_ImVh"
      }
    },
    {
      "cell_type": "markdown",
      "source": [
        "#**Example of running ACE on single subject (segmenation + registration + voxelization + warping) using Vision Transformer (UNETR) model with MC dropout:**\n",
        "\n",
        "\n",
        "\n",
        "```\n",
        "$ miracl flow ace \\\n",
        "  -s ./hemisphere_data_subject1/ \\\n",
        "  -sao ./output_dir \\\n",
        "  -sam ensemble \\\n",
        "  -sar 1.8 1.8 2 \\\n",
        "  -samc\n",
        "```\n",
        "\n",
        "\n",
        "\n",
        "\n",
        "- ```./hemisphere_data_subject1/``` directory contains Z slices of 3D raw LSFM data from one hemisphere of a mouse brain. The voxel size of the data is 1.8x1.8x2 um.\n",
        "\n",
        "- by selecting ```ensemble``` and ```samc``` we will use ensemble of ACE UNETR and UNET models; each with MC dropout (ensemble of ensembles).\n",
        "\n"
      ],
      "metadata": {
        "id": "9ZoTv5YcI07p"
      }
    },
    {
      "cell_type": "markdown",
      "source": [
        "#**Main Outputs**\n",
        "\n",
        "ACE creates the following directories for each subject:\n",
        "\n",
        "\n",
        "\n",
        "* Registration outputs:\n",
        "\n",
        "```\n",
        "- conv_final # conversion (tiff to nifti) output\n",
        "- reg_final  # main registration output\n",
        "- clar_allen_reg # registration output / pre-liminary files\n",
        "- reg_final  # main registration output\n",
        "```\n",
        "* Segmentation outputs:\n",
        "\n",
        "```\n",
        "- seg_final # segmentation output including model(s) outputs and uncertainty estimates\n",
        "- vox_final # segmentation maps are voxelized using a conv filter to avoid data loss in warping and downsampling\n",
        "- warp_final # voxelized maps are warped to study specific atlas\n",
        "```\n",
        "\n"
      ],
      "metadata": {
        "id": "_MYTkXy3YiGs"
      }
    },
    {
      "cell_type": "markdown",
      "source": [
        "# Here are the reults of ACE on one single subject:\n",
        "\n",
        "![](https://drive.google.com/uc?export=view&id=1ZMSggGeEbZjIcx-jZGZuAvFAQ5U8QT96)\n",
        "\n",
        "# Here are the reults of ACE registration:\n",
        "![](https://drive.google.com/uc?export=view&id=1t6AQQ5gE3NYBrSDf8VhmRHZzv1k6_KDs)\n",
        "\n",
        "\n",
        "\n"
      ],
      "metadata": {
        "id": "oMld0yfxO-cb"
      }
    },
    {
      "cell_type": "markdown",
      "source": [
        "#**Example of running ACE flow on two groups of study and multiple subjects**\n",
        "\n",
        "\n",
        "\n",
        "```\n",
        "$ miracl flow ace \\\n",
        "   -c ./non_walking \\\n",
        "   -e ./walking \\\n",
        "   -sao ./output_dir \\\n",
        "   -sar 1.4 1.4 5 \\\n",
        "   -sam ensemble \\\n",
        "   -samc \\\n",
        "   -rcao ALI \\\n",
        "   -rcav 10\n",
        "\n",
        "```\n",
        "\n",
        "**Arguments:**\n",
        "\n",
        "- Each ```./non_walking & ./walking``` directories contains 3 subjects. Each should have a directory corresponding the Z slices of a 3D whole-brain LSFM data with the resolution of 1.4x1.4.5 um.\n",
        "\n",
        "**Segmnetation:**\n",
        "\n",
        "- by selecting ```ensemble``` and ```samc``` we will use ensemble of ACE UNETR and UNET models; each with MC dropout (ensemble of ensembles).\n",
        "\n",
        "**Registration**\n",
        "\n",
        "- by selecting ```rcao ALI``` and ```rcav 10```, ACE will use 10x for downsampling of the input image to registration and ```AIR``` code for orienting it to a study specific atlas (default is Allen atlas)\n",
        "\n",
        "**Cluster wise analysis**\n",
        "\n",
        "- for this example, ACE will use all default parameters for its cluster wise threshold free enhancement (TFCE) statistical test such as TFCE step (5) and start (0.01), and number of permutations (500)\n",
        "\n"
      ],
      "metadata": {
        "id": "eyVT4gB8VgG-"
      }
    },
    {
      "cell_type": "markdown",
      "source": [
        "#**Main Outputs**\n",
        "\n",
        "In addition to the directories ACE creates for one subject input, the following directories also will be generated:\n",
        "\n",
        "* Cluster wise analysis outputs:\n",
        "\n",
        "```\n",
        "heatmap_final # cell density heatmaps, demonstrating activity hotspots between two groups of study.\n",
        "cluster_final # cluster-wise analysis output including p_value and f_stats maps.\n",
        "```\n",
        "\n",
        "*Specifically, in addition to cluster wise p_value and f_stats, ACE provides an excel file, summarizing information about each signficant cluster found. These information consists of cluster volume, effect size, and the regions of the brain (with percentage) each cluster spanned out.*"
      ],
      "metadata": {
        "id": "4Gz4LfZWYMT2"
      }
    },
    {
      "cell_type": "markdown",
      "source": [],
      "metadata": {
        "id": "02BNFMoosYVA"
      }
    },
    {
      "cell_type": "markdown",
      "source": [
        "# Here are the reults of ACE on two groups and multiple subjects:\n",
        "\n",
        "# first, let's look at one subject's segmentation + registration + warping:\n",
        "![](https://drive.google.com/uc?export=view&id=1sdtjvn3SOMR9gnx02RN7fLsx7I7kNzli)\n",
        "Data rendering was done using `Napari`, `Freeview`, and `Brainrender`\n",
        "\n",
        "# here are the cluster-wise analysis:\n",
        "![](https://drive.google.com/uc?export=view&id=18dQlLXUMjgJq2Ixl0xE5bnwdJWdGH8lt)\n",
        "\n"
      ],
      "metadata": {
        "id": "vCif5CqzamsL"
      }
    },
    {
      "cell_type": "markdown",
      "source": [
        "ACE optimized cluster-wise statistical analysis with a threshold-free enhancement approach charts subpopulation-specific effects at the laminar and local level, without restricting the analysis to atlas-defined regions.\n",
        "E. g. here are the top (sorted by effect size) signficant clusters of activation in the above example from the `.csv` file (ACE's output):\n",
        "\n",
        "![](https://drive.google.com/uc?export=view&id=10BukOCrOelOWPXYOkRYEz9UDXA3JcZxA)\n"
      ],
      "metadata": {
        "id": "fRCiOafc0wm2"
      }
    },
    {
      "cell_type": "markdown",
      "source": [
        "#**Summary**\n",
        "\n",
        "- ACE is an end-to-end pipeline to map local/laminar activity at the level of whole brain.\n",
        "- ACE segmentation module is based cutting-edge deep learning models (both vision transformer and CNN) where trained LSFM data from multiple centers and evaluated on unseen datasets (manuscript under review).\n",
        "- Provides cluster-wise statistical analysis with high specificity & sensitivity in an atlas-agnostic manner.\n",
        "- Due to modular nature of the pipeline, ACE is easily extendable to map other cell types in 3D microscopy data.   \n"
      ],
      "metadata": {
        "id": "BaSfAsul16pB"
      }
    }
  ]
}